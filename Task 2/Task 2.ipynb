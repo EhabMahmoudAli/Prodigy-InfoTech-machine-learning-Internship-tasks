{
 "cells": [
  {
   "metadata": {},
   "cell_type": "markdown",
   "source": [
    "# Prodigy InfoTech Task 2\n",
    "\n",
    "\n"
   ],
   "id": "8a77807f92f26ee"
  },
  {
   "metadata": {},
   "cell_type": "markdown",
   "source": [
    "\n",
    "\n",
    "## Import libraries"
   ],
   "id": "2e44cfe2f556cba1"
  },
  {
   "metadata": {
    "ExecuteTime": {
     "end_time": "2024-09-25T20:56:45.608001Z",
     "start_time": "2024-09-25T20:56:45.588050Z"
    }
   },
   "cell_type": "code",
   "source": [
    "import pandas as pd\n",
    "from sklearn.preprocessing import StandardScaler\n",
    "from sklearn.cluster import KMeans\n",
    "import matplotlib.pyplot as plt\n",
    "import seaborn as sns\n",
    "from sklearn.decomposition import PCA"
   ],
   "id": "7df9140457caed5e",
   "outputs": [],
   "execution_count": 215
  },
  {
   "metadata": {},
   "cell_type": "markdown",
   "source": "## Load the data\n",
   "id": "62a8c026dc794d85"
  },
  {
   "metadata": {
    "ExecuteTime": {
     "end_time": "2024-09-25T20:56:45.638914Z",
     "start_time": "2024-09-25T20:56:45.625951Z"
    }
   },
   "cell_type": "code",
   "source": "data = pd.read_csv('Mall_Customers.csv')",
   "id": "abdc8c1047cc2082",
   "outputs": [],
   "execution_count": 216
  },
  {
   "metadata": {},
   "cell_type": "markdown",
   "source": "## The first 10 raws of the data",
   "id": "fcf36260702fcbb9"
  },
  {
   "metadata": {
    "ExecuteTime": {
     "end_time": "2024-09-25T20:56:45.685826Z",
     "start_time": "2024-09-25T20:56:45.671828Z"
    }
   },
   "cell_type": "code",
   "source": "data.head(10)",
   "id": "1a73d1398f95caf8",
   "outputs": [
    {
     "data": {
      "text/plain": [
       "   CustomerID  Gender  Age  Annual Income (k$)  Spending Score (1-100)\n",
       "0           1    Male   19                  15                      39\n",
       "1           2    Male   21                  15                      81\n",
       "2           3  Female   20                  16                       6\n",
       "3           4  Female   23                  16                      77\n",
       "4           5  Female   31                  17                      40\n",
       "5           6  Female   22                  17                      76\n",
       "6           7  Female   35                  18                       6\n",
       "7           8  Female   23                  18                      94\n",
       "8           9    Male   64                  19                       3\n",
       "9          10  Female   30                  19                      72"
      ],
      "text/html": [
       "<div>\n",
       "<style scoped>\n",
       "    .dataframe tbody tr th:only-of-type {\n",
       "        vertical-align: middle;\n",
       "    }\n",
       "\n",
       "    .dataframe tbody tr th {\n",
       "        vertical-align: top;\n",
       "    }\n",
       "\n",
       "    .dataframe thead th {\n",
       "        text-align: right;\n",
       "    }\n",
       "</style>\n",
       "<table border=\"1\" class=\"dataframe\">\n",
       "  <thead>\n",
       "    <tr style=\"text-align: right;\">\n",
       "      <th></th>\n",
       "      <th>CustomerID</th>\n",
       "      <th>Gender</th>\n",
       "      <th>Age</th>\n",
       "      <th>Annual Income (k$)</th>\n",
       "      <th>Spending Score (1-100)</th>\n",
       "    </tr>\n",
       "  </thead>\n",
       "  <tbody>\n",
       "    <tr>\n",
       "      <th>0</th>\n",
       "      <td>1</td>\n",
       "      <td>Male</td>\n",
       "      <td>19</td>\n",
       "      <td>15</td>\n",
       "      <td>39</td>\n",
       "    </tr>\n",
       "    <tr>\n",
       "      <th>1</th>\n",
       "      <td>2</td>\n",
       "      <td>Male</td>\n",
       "      <td>21</td>\n",
       "      <td>15</td>\n",
       "      <td>81</td>\n",
       "    </tr>\n",
       "    <tr>\n",
       "      <th>2</th>\n",
       "      <td>3</td>\n",
       "      <td>Female</td>\n",
       "      <td>20</td>\n",
       "      <td>16</td>\n",
       "      <td>6</td>\n",
       "    </tr>\n",
       "    <tr>\n",
       "      <th>3</th>\n",
       "      <td>4</td>\n",
       "      <td>Female</td>\n",
       "      <td>23</td>\n",
       "      <td>16</td>\n",
       "      <td>77</td>\n",
       "    </tr>\n",
       "    <tr>\n",
       "      <th>4</th>\n",
       "      <td>5</td>\n",
       "      <td>Female</td>\n",
       "      <td>31</td>\n",
       "      <td>17</td>\n",
       "      <td>40</td>\n",
       "    </tr>\n",
       "    <tr>\n",
       "      <th>5</th>\n",
       "      <td>6</td>\n",
       "      <td>Female</td>\n",
       "      <td>22</td>\n",
       "      <td>17</td>\n",
       "      <td>76</td>\n",
       "    </tr>\n",
       "    <tr>\n",
       "      <th>6</th>\n",
       "      <td>7</td>\n",
       "      <td>Female</td>\n",
       "      <td>35</td>\n",
       "      <td>18</td>\n",
       "      <td>6</td>\n",
       "    </tr>\n",
       "    <tr>\n",
       "      <th>7</th>\n",
       "      <td>8</td>\n",
       "      <td>Female</td>\n",
       "      <td>23</td>\n",
       "      <td>18</td>\n",
       "      <td>94</td>\n",
       "    </tr>\n",
       "    <tr>\n",
       "      <th>8</th>\n",
       "      <td>9</td>\n",
       "      <td>Male</td>\n",
       "      <td>64</td>\n",
       "      <td>19</td>\n",
       "      <td>3</td>\n",
       "    </tr>\n",
       "    <tr>\n",
       "      <th>9</th>\n",
       "      <td>10</td>\n",
       "      <td>Female</td>\n",
       "      <td>30</td>\n",
       "      <td>19</td>\n",
       "      <td>72</td>\n",
       "    </tr>\n",
       "  </tbody>\n",
       "</table>\n",
       "</div>"
      ]
     },
     "execution_count": 217,
     "metadata": {},
     "output_type": "execute_result"
    }
   ],
   "execution_count": 217
  },
  {
   "metadata": {},
   "cell_type": "markdown",
   "source": "## Number of raws and columns in the data",
   "id": "a3a93728588b50ea"
  },
  {
   "metadata": {
    "ExecuteTime": {
     "end_time": "2024-09-25T20:56:45.824456Z",
     "start_time": "2024-09-25T20:56:45.810494Z"
    }
   },
   "cell_type": "code",
   "source": "data.shape",
   "id": "c12fe7e923c2cc9d",
   "outputs": [
    {
     "data": {
      "text/plain": [
       "(200, 5)"
      ]
     },
     "execution_count": 218,
     "metadata": {},
     "output_type": "execute_result"
    }
   ],
   "execution_count": 218
  },
  {
   "metadata": {},
   "cell_type": "markdown",
   "source": "## Some statistical information about the data",
   "id": "8129f85a47c95f5e"
  },
  {
   "metadata": {
    "ExecuteTime": {
     "end_time": "2024-09-25T20:56:45.966124Z",
     "start_time": "2024-09-25T20:56:45.947174Z"
    }
   },
   "cell_type": "code",
   "source": "data.describe()",
   "id": "e02b9cd9aa37532e",
   "outputs": [
    {
     "data": {
      "text/plain": [
       "       CustomerID         Age  Annual Income (k$)  Spending Score (1-100)\n",
       "count  200.000000  200.000000          200.000000              200.000000\n",
       "mean   100.500000   38.850000           60.560000               50.200000\n",
       "std     57.879185   13.969007           26.264721               25.823522\n",
       "min      1.000000   18.000000           15.000000                1.000000\n",
       "25%     50.750000   28.750000           41.500000               34.750000\n",
       "50%    100.500000   36.000000           61.500000               50.000000\n",
       "75%    150.250000   49.000000           78.000000               73.000000\n",
       "max    200.000000   70.000000          137.000000               99.000000"
      ],
      "text/html": [
       "<div>\n",
       "<style scoped>\n",
       "    .dataframe tbody tr th:only-of-type {\n",
       "        vertical-align: middle;\n",
       "    }\n",
       "\n",
       "    .dataframe tbody tr th {\n",
       "        vertical-align: top;\n",
       "    }\n",
       "\n",
       "    .dataframe thead th {\n",
       "        text-align: right;\n",
       "    }\n",
       "</style>\n",
       "<table border=\"1\" class=\"dataframe\">\n",
       "  <thead>\n",
       "    <tr style=\"text-align: right;\">\n",
       "      <th></th>\n",
       "      <th>CustomerID</th>\n",
       "      <th>Age</th>\n",
       "      <th>Annual Income (k$)</th>\n",
       "      <th>Spending Score (1-100)</th>\n",
       "    </tr>\n",
       "  </thead>\n",
       "  <tbody>\n",
       "    <tr>\n",
       "      <th>count</th>\n",
       "      <td>200.000000</td>\n",
       "      <td>200.000000</td>\n",
       "      <td>200.000000</td>\n",
       "      <td>200.000000</td>\n",
       "    </tr>\n",
       "    <tr>\n",
       "      <th>mean</th>\n",
       "      <td>100.500000</td>\n",
       "      <td>38.850000</td>\n",
       "      <td>60.560000</td>\n",
       "      <td>50.200000</td>\n",
       "    </tr>\n",
       "    <tr>\n",
       "      <th>std</th>\n",
       "      <td>57.879185</td>\n",
       "      <td>13.969007</td>\n",
       "      <td>26.264721</td>\n",
       "      <td>25.823522</td>\n",
       "    </tr>\n",
       "    <tr>\n",
       "      <th>min</th>\n",
       "      <td>1.000000</td>\n",
       "      <td>18.000000</td>\n",
       "      <td>15.000000</td>\n",
       "      <td>1.000000</td>\n",
       "    </tr>\n",
       "    <tr>\n",
       "      <th>25%</th>\n",
       "      <td>50.750000</td>\n",
       "      <td>28.750000</td>\n",
       "      <td>41.500000</td>\n",
       "      <td>34.750000</td>\n",
       "    </tr>\n",
       "    <tr>\n",
       "      <th>50%</th>\n",
       "      <td>100.500000</td>\n",
       "      <td>36.000000</td>\n",
       "      <td>61.500000</td>\n",
       "      <td>50.000000</td>\n",
       "    </tr>\n",
       "    <tr>\n",
       "      <th>75%</th>\n",
       "      <td>150.250000</td>\n",
       "      <td>49.000000</td>\n",
       "      <td>78.000000</td>\n",
       "      <td>73.000000</td>\n",
       "    </tr>\n",
       "    <tr>\n",
       "      <th>max</th>\n",
       "      <td>200.000000</td>\n",
       "      <td>70.000000</td>\n",
       "      <td>137.000000</td>\n",
       "      <td>99.000000</td>\n",
       "    </tr>\n",
       "  </tbody>\n",
       "</table>\n",
       "</div>"
      ]
     },
     "execution_count": 219,
     "metadata": {},
     "output_type": "execute_result"
    }
   ],
   "execution_count": 219
  },
  {
   "metadata": {},
   "cell_type": "markdown",
   "source": "## Number of nulls in each column",
   "id": "aff9597385dc77ae"
  },
  {
   "metadata": {
    "ExecuteTime": {
     "end_time": "2024-09-25T20:56:46.140309Z",
     "start_time": "2024-09-25T20:56:46.126349Z"
    }
   },
   "cell_type": "code",
   "source": [
    "for col in data.columns:\n",
    "    print(f'{col} : {data[col].isna().sum()} out of {data.shape[0]}')"
   ],
   "id": "bca2be2dd38e12f9",
   "outputs": [
    {
     "name": "stdout",
     "output_type": "stream",
     "text": [
      "CustomerID : 0 out of 200\n",
      "Gender : 0 out of 200\n",
      "Age : 0 out of 200\n",
      "Annual Income (k$) : 0 out of 200\n",
      "Spending Score (1-100) : 0 out of 200\n"
     ]
    }
   ],
   "execution_count": 220
  },
  {
   "metadata": {},
   "cell_type": "markdown",
   "source": "## Fetch the categorical columns",
   "id": "55d26888dbb3d468"
  },
  {
   "metadata": {
    "ExecuteTime": {
     "end_time": "2024-09-25T20:56:46.234066Z",
     "start_time": "2024-09-25T20:56:46.214120Z"
    }
   },
   "cell_type": "code",
   "source": [
    "categorical_columns = []\n",
    "for i in data.columns:\n",
    "    if data[i].dtype == 'object':\n",
    "        categorical_columns.append(i)\n",
    "print(categorical_columns)"
   ],
   "id": "15934ffc7555435e",
   "outputs": [
    {
     "name": "stdout",
     "output_type": "stream",
     "text": [
      "['Gender']\n"
     ]
    }
   ],
   "execution_count": 221
  },
  {
   "metadata": {},
   "cell_type": "markdown",
   "source": "## The task is to Create a K-means clustering algorithm to group customers of a retail store based on their purchase history",
   "id": "36b812d2b827d8d4"
  },
  {
   "metadata": {},
   "cell_type": "markdown",
   "source": "## Encoding the categorical columns",
   "id": "4f9acad4aee6e807"
  },
  {
   "metadata": {
    "ExecuteTime": {
     "end_time": "2024-09-25T20:56:46.451162Z",
     "start_time": "2024-09-25T20:56:46.436671Z"
    }
   },
   "cell_type": "code",
   "source": [
    "data['Gender'] = data['Gender'].map({'Male': 0, 'Female': 1})\n",
    "# replace male with 0 and female with 1"
   ],
   "id": "cc58050a644c426e",
   "outputs": [],
   "execution_count": 222
  },
  {
   "metadata": {},
   "cell_type": "markdown",
   "source": "## Standardizing features",
   "id": "7c1afab6748e0aea"
  },
  {
   "metadata": {
    "ExecuteTime": {
     "end_time": "2024-09-25T20:56:46.482064Z",
     "start_time": "2024-09-25T20:56:46.458129Z"
    }
   },
   "cell_type": "code",
   "source": [
    "# Select features for clustering (Age, Annual Income, Spending Score)\n",
    "features = ['Age', 'Annual Income (k$)', 'Spending Score (1-100)']\n",
    "# Customer ID column is dropped\n",
    "\n",
    "scaler = StandardScaler()\n",
    "scaled_data = scaler.fit_transform(data[features])\n",
    "scaled_data = pd.DataFrame(scaled_data, columns=features)"
   ],
   "id": "5fabd29236a63cc7",
   "outputs": [],
   "execution_count": 223
  },
  {
   "metadata": {},
   "cell_type": "markdown",
   "source": "## Print data after preprocessing",
   "id": "3e03fca3c24bb85b"
  },
  {
   "metadata": {
    "ExecuteTime": {
     "end_time": "2024-09-25T20:56:46.528983Z",
     "start_time": "2024-09-25T20:56:46.515974Z"
    }
   },
   "cell_type": "code",
   "source": "scaled_data.head(10)",
   "id": "a815332c232ab464",
   "outputs": [
    {
     "data": {
      "text/plain": [
       "        Age  Annual Income (k$)  Spending Score (1-100)\n",
       "0 -1.424569           -1.738999               -0.434801\n",
       "1 -1.281035           -1.738999                1.195704\n",
       "2 -1.352802           -1.700830               -1.715913\n",
       "3 -1.137502           -1.700830                1.040418\n",
       "4 -0.563369           -1.662660               -0.395980\n",
       "5 -1.209269           -1.662660                1.001596\n",
       "6 -0.276302           -1.624491               -1.715913\n",
       "7 -1.137502           -1.624491                1.700384\n",
       "8  1.804932           -1.586321               -1.832378\n",
       "9 -0.635135           -1.586321                0.846310"
      ],
      "text/html": [
       "<div>\n",
       "<style scoped>\n",
       "    .dataframe tbody tr th:only-of-type {\n",
       "        vertical-align: middle;\n",
       "    }\n",
       "\n",
       "    .dataframe tbody tr th {\n",
       "        vertical-align: top;\n",
       "    }\n",
       "\n",
       "    .dataframe thead th {\n",
       "        text-align: right;\n",
       "    }\n",
       "</style>\n",
       "<table border=\"1\" class=\"dataframe\">\n",
       "  <thead>\n",
       "    <tr style=\"text-align: right;\">\n",
       "      <th></th>\n",
       "      <th>Age</th>\n",
       "      <th>Annual Income (k$)</th>\n",
       "      <th>Spending Score (1-100)</th>\n",
       "    </tr>\n",
       "  </thead>\n",
       "  <tbody>\n",
       "    <tr>\n",
       "      <th>0</th>\n",
       "      <td>-1.424569</td>\n",
       "      <td>-1.738999</td>\n",
       "      <td>-0.434801</td>\n",
       "    </tr>\n",
       "    <tr>\n",
       "      <th>1</th>\n",
       "      <td>-1.281035</td>\n",
       "      <td>-1.738999</td>\n",
       "      <td>1.195704</td>\n",
       "    </tr>\n",
       "    <tr>\n",
       "      <th>2</th>\n",
       "      <td>-1.352802</td>\n",
       "      <td>-1.700830</td>\n",
       "      <td>-1.715913</td>\n",
       "    </tr>\n",
       "    <tr>\n",
       "      <th>3</th>\n",
       "      <td>-1.137502</td>\n",
       "      <td>-1.700830</td>\n",
       "      <td>1.040418</td>\n",
       "    </tr>\n",
       "    <tr>\n",
       "      <th>4</th>\n",
       "      <td>-0.563369</td>\n",
       "      <td>-1.662660</td>\n",
       "      <td>-0.395980</td>\n",
       "    </tr>\n",
       "    <tr>\n",
       "      <th>5</th>\n",
       "      <td>-1.209269</td>\n",
       "      <td>-1.662660</td>\n",
       "      <td>1.001596</td>\n",
       "    </tr>\n",
       "    <tr>\n",
       "      <th>6</th>\n",
       "      <td>-0.276302</td>\n",
       "      <td>-1.624491</td>\n",
       "      <td>-1.715913</td>\n",
       "    </tr>\n",
       "    <tr>\n",
       "      <th>7</th>\n",
       "      <td>-1.137502</td>\n",
       "      <td>-1.624491</td>\n",
       "      <td>1.700384</td>\n",
       "    </tr>\n",
       "    <tr>\n",
       "      <th>8</th>\n",
       "      <td>1.804932</td>\n",
       "      <td>-1.586321</td>\n",
       "      <td>-1.832378</td>\n",
       "    </tr>\n",
       "    <tr>\n",
       "      <th>9</th>\n",
       "      <td>-0.635135</td>\n",
       "      <td>-1.586321</td>\n",
       "      <td>0.846310</td>\n",
       "    </tr>\n",
       "  </tbody>\n",
       "</table>\n",
       "</div>"
      ]
     },
     "execution_count": 224,
     "metadata": {},
     "output_type": "execute_result"
    }
   ],
   "execution_count": 224
  },
  {
   "metadata": {},
   "cell_type": "markdown",
   "source": "## Elbow method",
   "id": "f2b29e3d9809c5d5"
  },
  {
   "metadata": {
    "ExecuteTime": {
     "end_time": "2024-09-25T20:56:47.396463Z",
     "start_time": "2024-09-25T20:56:46.607729Z"
    }
   },
   "cell_type": "code",
   "source": [
    "wcss = []\n",
    "for i in range(1, 11):\n",
    "    kmeans = KMeans(n_clusters=i, init='k-means++', random_state=42)\n",
    "    kmeans.fit(scaled_data)\n",
    "    wcss.append(kmeans.inertia_)  # Sum of squared distances of samples to their closest cluster center\n",
    "\n",
    "# Elbow graph to determine the optimal number of clusters\n",
    "plt.plot(range(1, 11), wcss)\n",
    "plt.title('Elbow Method')\n",
    "plt.xlabel('Number of Clusters')\n",
    "plt.ylabel('WCSS')  # Within-cluster sum of squares\n",
    "plt.show()"
   ],
   "id": "285a9f4d2ee065db",
   "outputs": [
    {
     "data": {
      "text/plain": [
       "<Figure size 640x480 with 1 Axes>"
      ],
      "image/png": "[encoded data removed]"
     },
     "metadata": {},
     "output_type": "display_data"
    }
   ],
   "execution_count": 225
  },
  {
   "metadata": {},
   "cell_type": "markdown",
   "source": "### From the Elbow method we can notice that the suitable number of clusters is 5",
   "id": "c0d6ab44427f4cb7"
  },
  {
   "metadata": {},
   "cell_type": "markdown",
   "source": "## K-Means clustering and PCA for Dimensionality Reduction",
   "id": "cae3114def5ba9af"
  },
  {
   "metadata": {
    "ExecuteTime": {
     "end_time": "2024-09-25T20:56:47.505448Z",
     "start_time": "2024-09-25T20:56:47.445300Z"
    }
   },
   "cell_type": "code",
   "source": [
    "pca = PCA(n_components=2)\n",
    "pca_data = pca.fit_transform(scaled_data)\n",
    "pca_df = pd.DataFrame(pca_data, columns=['PCA1', 'PCA2'])\n",
    "\n",
    "# Apply KMeans clustering on the PCA-reduced data\n",
    "kmeans = KMeans(n_clusters=5, random_state=42)\n",
    "pca_df['Cluster'] = kmeans.fit_predict(pca_data)"
   ],
   "id": "3f477b5079c67a31",
   "outputs": [],
   "execution_count": 226
  },
  {
   "metadata": {},
   "cell_type": "markdown",
   "source": "## Visualization of Clusters and centroids",
   "id": "f0db79d80145dd6e"
  },
  {
   "metadata": {
    "ExecuteTime": {
     "end_time": "2024-09-25T20:56:47.941530Z",
     "start_time": "2024-09-25T20:56:47.664144Z"
    }
   },
   "cell_type": "code",
   "source": [
    "centroids = kmeans.cluster_centers_\n",
    "\n",
    "plt.figure(figsize=(10, 6))\n",
    "sns.scatterplot(x='PCA1', y='PCA2', hue='Cluster', data=pca_df, palette='viridis')\n",
    "\n",
    "plt.scatter(centroids[:, 0], centroids[:, 1], s=300, c='red', label='Centroids', marker='X')\n",
    "\n",
    "plt.title('Clusters of Customers with Centroids (PCA-reduced Data)')\n",
    "plt.legend()\n",
    "plt.show()"
   ],
   "id": "70770ae5a23b08d3",
   "outputs": [
    {
     "data": {
      "text/plain": [
       "<Figure size 1000x600 with 1 Axes>"
      ],
      "image/png": "[encoded data removed]"
     },
     "metadata": {},
     "output_type": "display_data"
    }
   ],
   "execution_count": 227
  },
  {
   "metadata": {},
   "cell_type": "markdown",
   "source": [
    "### *I hope this notebook was useful.*\n",
    "\n",
    "\n",
    "#### reach me via : https://www.linkedin.com/in/ehab-mahmoud-ali-77ab0a243/"
   ],
   "id": "d69fb5ef776f0294"
  }
 ],
 "metadata": {
  "kernelspec": {
   "display_name": "Python 3",
   "language": "python",
   "name": "python3"
  },
  "language_info": {
   "codemirror_mode": {
    "name": "ipython",
    "version": 2
   },
   "file_extension": ".py",
   "mimetype": "text/x-python",
   "name": "python",
   "nbconvert_exporter": "python",
   "pygments_lexer": "ipython2",
   "version": "2.7.6"
  }
 },
 "nbformat": 4,
 "nbformat_minor": 5
}
